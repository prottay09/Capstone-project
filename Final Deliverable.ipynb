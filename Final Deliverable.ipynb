{
 "cells": [
  {
   "cell_type": "markdown",
   "metadata": {},
   "source": [
    "# Final Deliverable"
   ]
  },
  {
   "cell_type": "markdown",
   "metadata": {},
   "source": [
    "## Business Problem"
   ]
  },
  {
   "cell_type": "markdown",
   "metadata": {},
   "source": [
    "I am an immigrant in Canada from India with a cooking expertise. I want to open a food-chain focusing on Indian cuisine in Toronto. For the starting of the business, I need some suggestion regarding the neighborhood of Toronto. In this regard, I have two options: being more competitive or being for innovative. If I want to go competitive then I want to locate my first restaurant to be in the center where there are a lot of highly rated Indian restaurant. Else I want to locate my restaurant somewhere nearby where Indian cuisines are not available or not that much highly rated. I need both kind of suggestion in terms of location."
   ]
  },
  {
   "cell_type": "markdown",
   "metadata": {},
   "source": [
    "## Data"
   ]
  },
  {
   "cell_type": "markdown",
   "metadata": {},
   "source": [
    "We will be using Foursquare API to explore a geographical location. We will be using this to locate Indian restaurants. We will also ne using Foursquare API for the user rating of those places. And for the latitude and longitude we will be using the file provided in http://cocl.us/Geospatial_data."
   ]
  },
  {
   "cell_type": "markdown",
   "metadata": {},
   "source": [
    "### Importing necessary library"
   ]
  },
  {
   "cell_type": "code",
   "execution_count": 2,
   "metadata": {},
   "outputs": [],
   "source": [
    "import requests\n",
    "from bs4 import BeautifulSoup\n",
    "import pandas as pd\n",
    "pd.set_option('display.max_columns', None)\n",
    "pd.set_option('display.max_rows', None)\n",
    "import json\n",
    "from pandas.io.json import json_normalize\n",
    "import matplotlib.cm as cm\n",
    "import matplotlib.colors as colors\n",
    "\n",
    "# import k-means from clustering stage\n",
    "from sklearn.cluster import KMeans\n",
    "import numpy as np"
   ]
  },
  {
   "cell_type": "markdown",
   "metadata": {},
   "source": [
    "### User Credentials"
   ]
  },
  {
   "cell_type": "code",
   "execution_count": 3,
   "metadata": {},
   "outputs": [
    {
     "name": "stdout",
     "output_type": "stream",
     "text": [
      "Your credentails:\n",
      "CLIENT_ID: MFJLBG2F0TYVVTI3DHZASIBPL2AUB5AW3GCMSY4ZZR0UTL4U\n",
      "CLIENT_SECRET:OVPAA3IQLB45V3LRO1H0TMFP1RBUMV4XFPC40DHC2MALLI5X\n"
     ]
    }
   ],
   "source": [
    "CLIENT_ID = 'MFJLBG2F0TYVVTI3DHZASIBPL2AUB5AW3GCMSY4ZZR0UTL4U' # your Foursquare ID\n",
    "CLIENT_SECRET = 'OVPAA3IQLB45V3LRO1H0TMFP1RBUMV4XFPC40DHC2MALLI5X' # your Foursquare Secret\n",
    "VERSION = '20180604'\n",
    "LIMIT = 30\n",
    "print('Your credentails:')\n",
    "print('CLIENT_ID: ' + CLIENT_ID)\n",
    "print('CLIENT_SECRET:' + CLIENT_SECRET)"
   ]
  },
  {
   "cell_type": "markdown",
   "metadata": {},
   "source": [
    "### Loading location data with postal codes in Toronto"
   ]
  },
  {
   "cell_type": "code",
   "execution_count": 4,
   "metadata": {},
   "outputs": [
    {
     "data": {
      "text/html": [
       "<div>\n",
       "<style scoped>\n",
       "    .dataframe tbody tr th:only-of-type {\n",
       "        vertical-align: middle;\n",
       "    }\n",
       "\n",
       "    .dataframe tbody tr th {\n",
       "        vertical-align: top;\n",
       "    }\n",
       "\n",
       "    .dataframe thead th {\n",
       "        text-align: right;\n",
       "    }\n",
       "</style>\n",
       "<table border=\"1\" class=\"dataframe\">\n",
       "  <thead>\n",
       "    <tr style=\"text-align: right;\">\n",
       "      <th></th>\n",
       "      <th>PostalCode</th>\n",
       "      <th>Latitude</th>\n",
       "      <th>Longitude</th>\n",
       "    </tr>\n",
       "  </thead>\n",
       "  <tbody>\n",
       "    <tr>\n",
       "      <th>0</th>\n",
       "      <td>M1B</td>\n",
       "      <td>43.806686</td>\n",
       "      <td>-79.194353</td>\n",
       "    </tr>\n",
       "    <tr>\n",
       "      <th>1</th>\n",
       "      <td>M1C</td>\n",
       "      <td>43.784535</td>\n",
       "      <td>-79.160497</td>\n",
       "    </tr>\n",
       "    <tr>\n",
       "      <th>2</th>\n",
       "      <td>M1E</td>\n",
       "      <td>43.763573</td>\n",
       "      <td>-79.188711</td>\n",
       "    </tr>\n",
       "    <tr>\n",
       "      <th>3</th>\n",
       "      <td>M1G</td>\n",
       "      <td>43.770992</td>\n",
       "      <td>-79.216917</td>\n",
       "    </tr>\n",
       "    <tr>\n",
       "      <th>4</th>\n",
       "      <td>M1H</td>\n",
       "      <td>43.773136</td>\n",
       "      <td>-79.239476</td>\n",
       "    </tr>\n",
       "  </tbody>\n",
       "</table>\n",
       "</div>"
      ],
      "text/plain": [
       "  PostalCode   Latitude  Longitude\n",
       "0        M1B  43.806686 -79.194353\n",
       "1        M1C  43.784535 -79.160497\n",
       "2        M1E  43.763573 -79.188711\n",
       "3        M1G  43.770992 -79.216917\n",
       "4        M1H  43.773136 -79.239476"
      ]
     },
     "execution_count": 4,
     "metadata": {},
     "output_type": "execute_result"
    }
   ],
   "source": [
    "location_data = pd.read_csv(\"http://cocl.us/Geospatial_data\")\n",
    "location_data.columns=['PostalCode','Latitude','Longitude']\n",
    "location_data.head()"
   ]
  },
  {
   "cell_type": "markdown",
   "metadata": {},
   "source": [
    "### Example-Search for first geographical coordinate for \"Indian\" cuisine in 3Km radius"
   ]
  },
  {
   "cell_type": "code",
   "execution_count": 19,
   "metadata": {},
   "outputs": [],
   "source": [
    "search_query = 'Indian'\n",
    "radius = 3000"
   ]
  },
  {
   "cell_type": "code",
   "execution_count": 20,
   "metadata": {},
   "outputs": [],
   "source": [
    "latitude=location_data.iloc[0,1]\n",
    "longitude=location_data.iloc[0,2]\n",
    "url = 'https://api.foursquare.com/v2/venues/search?client_id={}&client_secret={}&ll={},{}&v={}&query={}&radius={}&limit={}'.format(CLIENT_ID, CLIENT_SECRET, latitude, longitude, VERSION, search_query, radius, LIMIT)"
   ]
  },
  {
   "cell_type": "code",
   "execution_count": 21,
   "metadata": {},
   "outputs": [],
   "source": [
    "results = requests.get(url).json()"
   ]
  },
  {
   "cell_type": "code",
   "execution_count": 22,
   "metadata": {},
   "outputs": [
    {
     "data": {
      "text/html": [
       "<div>\n",
       "<style scoped>\n",
       "    .dataframe tbody tr th:only-of-type {\n",
       "        vertical-align: middle;\n",
       "    }\n",
       "\n",
       "    .dataframe tbody tr th {\n",
       "        vertical-align: top;\n",
       "    }\n",
       "\n",
       "    .dataframe thead th {\n",
       "        text-align: right;\n",
       "    }\n",
       "</style>\n",
       "<table border=\"1\" class=\"dataframe\">\n",
       "  <thead>\n",
       "    <tr style=\"text-align: right;\">\n",
       "      <th></th>\n",
       "      <th>categories</th>\n",
       "      <th>hasPerk</th>\n",
       "      <th>id</th>\n",
       "      <th>location.address</th>\n",
       "      <th>location.cc</th>\n",
       "      <th>location.city</th>\n",
       "      <th>location.country</th>\n",
       "      <th>location.distance</th>\n",
       "      <th>location.formattedAddress</th>\n",
       "      <th>location.labeledLatLngs</th>\n",
       "      <th>location.lat</th>\n",
       "      <th>location.lng</th>\n",
       "      <th>location.neighborhood</th>\n",
       "      <th>location.postalCode</th>\n",
       "      <th>location.state</th>\n",
       "      <th>name</th>\n",
       "      <th>referralId</th>\n",
       "    </tr>\n",
       "  </thead>\n",
       "  <tbody>\n",
       "    <tr>\n",
       "      <th>0</th>\n",
       "      <td>[{'id': '4bf58dd8d48988d144941735', 'name': 'C...</td>\n",
       "      <td>False</td>\n",
       "      <td>4d2c8332342d6dcbe82020cb</td>\n",
       "      <td>1154 Morningside Ave</td>\n",
       "      <td>CA</td>\n",
       "      <td>Scarborough</td>\n",
       "      <td>Canada</td>\n",
       "      <td>787</td>\n",
       "      <td>[1154 Morningside Ave, Scarborough ON M1B 3A4,...</td>\n",
       "      <td>[{'label': 'display', 'lat': 43.8005806, 'lng'...</td>\n",
       "      <td>43.800581</td>\n",
       "      <td>-79.199309</td>\n",
       "      <td>NaN</td>\n",
       "      <td>M1B 3A4</td>\n",
       "      <td>ON</td>\n",
       "      <td>Charley's West Indian Foods Ltd</td>\n",
       "      <td>v-1591956857</td>\n",
       "    </tr>\n",
       "    <tr>\n",
       "      <th>1</th>\n",
       "      <td>[{'id': '58daa1558bbb0b01f18ec1fd', 'name': 'Z...</td>\n",
       "      <td>False</td>\n",
       "      <td>4cd8637d145fa1cdda2b06bd</td>\n",
       "      <td>NaN</td>\n",
       "      <td>CA</td>\n",
       "      <td>Toronto</td>\n",
       "      <td>Canada</td>\n",
       "      <td>1738</td>\n",
       "      <td>[Toronto ON, Canada]</td>\n",
       "      <td>[{'label': 'display', 'lat': 43.81926565890734...</td>\n",
       "      <td>43.819266</td>\n",
       "      <td>-79.181535</td>\n",
       "      <td>Rouge</td>\n",
       "      <td>NaN</td>\n",
       "      <td>ON</td>\n",
       "      <td>Indian Rhinoceros Pavilion</td>\n",
       "      <td>v-1591956857</td>\n",
       "    </tr>\n",
       "    <tr>\n",
       "      <th>2</th>\n",
       "      <td>[{'id': '4bf58dd8d48988d118951735', 'name': 'G...</td>\n",
       "      <td>False</td>\n",
       "      <td>4e35b8a8ae60d86c3ac2e8d4</td>\n",
       "      <td>31 Tapscott Rd. Unit B2</td>\n",
       "      <td>CA</td>\n",
       "      <td>Toronto</td>\n",
       "      <td>Canada</td>\n",
       "      <td>2159</td>\n",
       "      <td>[31 Tapscott Rd. Unit B2, Toronto ON, Canada]</td>\n",
       "      <td>[{'label': 'display', 'lat': 43.80746450749075...</td>\n",
       "      <td>43.807465</td>\n",
       "      <td>-79.221210</td>\n",
       "      <td>NaN</td>\n",
       "      <td>NaN</td>\n",
       "      <td>ON</td>\n",
       "      <td>Rubini West Indian Food Market</td>\n",
       "      <td>v-1591956857</td>\n",
       "    </tr>\n",
       "  </tbody>\n",
       "</table>\n",
       "</div>"
      ],
      "text/plain": [
       "                                          categories  hasPerk  \\\n",
       "0  [{'id': '4bf58dd8d48988d144941735', 'name': 'C...    False   \n",
       "1  [{'id': '58daa1558bbb0b01f18ec1fd', 'name': 'Z...    False   \n",
       "2  [{'id': '4bf58dd8d48988d118951735', 'name': 'G...    False   \n",
       "\n",
       "                         id         location.address location.cc  \\\n",
       "0  4d2c8332342d6dcbe82020cb     1154 Morningside Ave          CA   \n",
       "1  4cd8637d145fa1cdda2b06bd                      NaN          CA   \n",
       "2  4e35b8a8ae60d86c3ac2e8d4  31 Tapscott Rd. Unit B2          CA   \n",
       "\n",
       "  location.city location.country  location.distance  \\\n",
       "0   Scarborough           Canada                787   \n",
       "1       Toronto           Canada               1738   \n",
       "2       Toronto           Canada               2159   \n",
       "\n",
       "                           location.formattedAddress  \\\n",
       "0  [1154 Morningside Ave, Scarborough ON M1B 3A4,...   \n",
       "1                               [Toronto ON, Canada]   \n",
       "2      [31 Tapscott Rd. Unit B2, Toronto ON, Canada]   \n",
       "\n",
       "                             location.labeledLatLngs  location.lat  \\\n",
       "0  [{'label': 'display', 'lat': 43.8005806, 'lng'...     43.800581   \n",
       "1  [{'label': 'display', 'lat': 43.81926565890734...     43.819266   \n",
       "2  [{'label': 'display', 'lat': 43.80746450749075...     43.807465   \n",
       "\n",
       "   location.lng location.neighborhood location.postalCode location.state  \\\n",
       "0    -79.199309                   NaN             M1B 3A4             ON   \n",
       "1    -79.181535                 Rouge                 NaN             ON   \n",
       "2    -79.221210                   NaN                 NaN             ON   \n",
       "\n",
       "                              name    referralId  \n",
       "0  Charley's West Indian Foods Ltd  v-1591956857  \n",
       "1       Indian Rhinoceros Pavilion  v-1591956857  \n",
       "2   Rubini West Indian Food Market  v-1591956857  "
      ]
     },
     "execution_count": 22,
     "metadata": {},
     "output_type": "execute_result"
    }
   ],
   "source": [
    "# assign relevant part of JSON to venues\n",
    "venues = results['response']['venues']\n",
    "# tranform venues into a dataframe\n",
    "dataframe = json_normalize(venues)\n",
    "dataframe.head()"
   ]
  },
  {
   "cell_type": "markdown",
   "metadata": {},
   "source": [
    "### Gettting the venue rating"
   ]
  },
  {
   "cell_type": "code",
   "execution_count": 30,
   "metadata": {},
   "outputs": [],
   "source": [
    "# For the first place\n",
    "venue_id = dataframe.id[0]\n",
    "url = 'https://api.foursquare.com/v2/venues/{}?client_id={}&client_secret={}&v={}'.format(venue_id, CLIENT_ID, CLIENT_SECRET, VERSION)\n",
    "result = requests.get(url).json()"
   ]
  },
  {
   "cell_type": "code",
   "execution_count": 31,
   "metadata": {},
   "outputs": [
    {
     "name": "stdout",
     "output_type": "stream",
     "text": [
      "This venue has not been rated yet.\n"
     ]
    }
   ],
   "source": [
    "try:\n",
    "    print(result['response']['venue']['rating'])\n",
    "except:\n",
    "    print('This venue has not been rated yet.')"
   ]
  },
  {
   "cell_type": "code",
   "execution_count": null,
   "metadata": {},
   "outputs": [],
   "source": []
  }
 ],
 "metadata": {
  "kernelspec": {
   "display_name": "Python 3.6 (tensorflow)",
   "language": "python",
   "name": "tensorflow"
  },
  "language_info": {
   "codemirror_mode": {
    "name": "ipython",
    "version": 3
   },
   "file_extension": ".py",
   "mimetype": "text/x-python",
   "name": "python",
   "nbconvert_exporter": "python",
   "pygments_lexer": "ipython3",
   "version": "3.6.7"
  }
 },
 "nbformat": 4,
 "nbformat_minor": 2
}
